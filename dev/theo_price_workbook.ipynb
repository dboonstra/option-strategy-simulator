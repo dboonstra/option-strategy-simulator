{
 "cells": [
  {
   "cell_type": "markdown",
   "metadata": {},
   "source": [
    "# Examples of option_strategy_sim \n",
    "\n",
    "## strategy building, analysis, and visualizations"
   ]
  },
  {
   "cell_type": "code",
   "execution_count": 1,
   "metadata": {},
   "outputs": [],
   "source": [
    "\n",
    "import sys\n",
    "sys.path.insert(0,\"src\")\n",
    "sys.path.insert(0,\"../src\")\n",
    "from option_strategy_sim import OptionStrategy\n",
    "from tabulate import tabulate\n",
    "\n",
    "# SETUP\n",
    "symbol: str = \"XYZ\"\n",
    "underlying_price: float = 100.0\n",
    "dte: float = 42\n",
    "volatility: float = 0.3\n",
    "\n"
   ]
  },
  {
   "cell_type": "markdown",
   "metadata": {},
   "source": [
    "# OptionStrategy initialization \n",
    "\n",
    "Rquired:\n",
    "* underlying_price (float) underlying etf/equity price \n",
    "\n",
    "Optional:\n",
    "* title (str) name of strategy\n",
    "* underlying_symbol (str) symbol of etf/equity\n",
    "* days_to_expriation (float) default contracts to this DTE|\n",
    "* volatility (float, .25) default contracts to this volatility\n",
    "* stddev_range (float, 3.0) how many standards of deviation to use for plot and estimations\n",
    "* monte_carl (bool,False) whether to use monte carlo sims for profit estimation\n",
    "* num_simulations (int, 1000) number of plot points and monte_carlo simulations\n",
    "\n",
    "\n",
    "### setup an example options chain and some helper functions"
   ]
  },
  {
   "cell_type": "code",
   "execution_count": 2,
   "metadata": {},
   "outputs": [],
   "source": [
    "# ---------------------------------------------\n",
    "# a chain of calls and puts and some stocks\n",
    "calls = [\n",
    "    {'option_type':'C', 'strike_price':105.0, 'mark':5.68, 'volatility':0.41, },\n",
    "    {'option_type':'C', 'strike_price':108.0, 'mark':4.40, 'volatility':0.45, },\n",
    "    {'option_type':'C', 'strike_price':111.0, 'mark':3.30, 'volatility':0.51, },\n",
    "    ]\n",
    "\n",
    "puts = [\n",
    "    {'option_type':'P', 'strike_price':104.0, 'mark':5.10, 'volatility':0.37, },\n",
    "    {'option_type':'P', 'strike_price':101.0, 'mark':3.75, 'volatility':0.39, },\n",
    "    {'option_type':'P', 'strike_price':98.0, 'mark':2.68, 'volatility':0.41, },\n",
    "    ]\n",
    "\n",
    "stocks = [\n",
    "    {'option_type':'S', 'strike_price':underlying_price, 'mark':underlying_price, 'volatility':0.37},\n",
    "    ]\n",
    "\n",
    "# ---------------------------------------------\n",
    "\n",
    "def new_ostrat(title:str) -> OptionStrategy:\n",
    "    \"\"\" A new OptionStrategy object with a title \"\"\"\n",
    "    return OptionStrategy(\n",
    "        title=title, \n",
    "        days_to_expiration = dte,\n",
    "        underlying_price=underlying_price,\n",
    "        symbol=symbol,\n",
    "    )\n",
    "\n",
    "def create_leg(contract:dict, quantity: int) -> dict:\n",
    "    \"\"\" \n",
    "    function to define a buy or sell leg order \n",
    "    gets a contract dict from option chain and adds a quantity to it \n",
    "    \"\"\"\n",
    "    mycontract = contract.copy()  \n",
    "    mycontract[\"quantity\"] = quantity\n",
    "    return mycontract\n",
    "\n",
    "# dump stats of our strategy\n",
    "def print_stats(obj: any, legs: bool = False, pnls: bool = False) -> None:\n",
    "    \"\"\" \n",
    "    use tabulate to print the strategy stats via repr()\n",
    "    and optional leg and pnl stats\n",
    "    \"\"\"\n",
    "    print(tabulate(obj.repr()))\n",
    "    if isinstance(obj, OptionStrategy):\n",
    "        if legs:\n",
    "            print(\"Legs: _________________________\")\n",
    "            for leg in obj.legs:\n",
    "                print_stats(leg)\n",
    "        if pnls:\n",
    "            print(\"PNLs: _________________________\")\n",
    "            for pnl in obj.pnls:\n",
    "                print_stats(pnl)\n",
    "                print(\"--\")"
   ]
  },
  {
   "cell_type": "markdown",
   "metadata": {},
   "source": [
    "### analysis and visualizations"
   ]
  },
  {
   "cell_type": "code",
   "execution_count": null,
   "metadata": {},
   "outputs": [],
   "source": [
    "# create new strategy with a long call \n",
    "# buy the 108 strike call\n",
    "long_call_leg: dict = create_leg(calls[1], 1)\n",
    "ostrat = new_ostrat(\"longCall\")\n",
    "ostrat.add_leg(**long_call_leg)\n",
    "ostrat.plot_strategy()\n",
    "print_stats(ostrat, legs=True, pnls=True)\n"
   ]
  },
  {
   "cell_type": "code",
   "execution_count": null,
   "metadata": {},
   "outputs": [],
   "source": [
    "\n",
    "# now make a credit spread with the 105 strike call \n",
    "ostrat = new_ostrat(\"call_spread\")\n",
    "# sell the 105 and buy the 108 strikes\n",
    "short_call_leg: dict = create_leg(calls[0], -1)\n",
    "long_call_leg: dict = create_leg(calls[1], 1)\n",
    "ostrat.add_leg(**long_call_leg)\n",
    "ostrat.add_leg(**short_call_leg)\n",
    "ostrat.plot_strategy()\n",
    "print_stats(ostrat, legs=True, pnls=True)\n"
   ]
  },
  {
   "cell_type": "code",
   "execution_count": null,
   "metadata": {},
   "outputs": [],
   "source": [
    "# make an iron condor with puts added  \n",
    "ostrat = new_ostrat(\"iron condor\")\n",
    "# sell the 105 and buy the 108 strikes\n",
    "short_call_leg: dict = create_leg(calls[1], -1)\n",
    "long_call_leg: dict = create_leg(calls[2], 1)\n",
    "short_put_leg: dict = create_leg(puts[1], -1)\n",
    "long_put_leg: dict = create_leg(puts[2], 1)\n",
    "ostrat.add_leg(**long_call_leg)\n",
    "ostrat.add_leg(**short_call_leg)\n",
    "ostrat.add_leg(**long_put_leg)\n",
    "ostrat.add_leg(**short_put_leg)\n",
    "\n",
    "# now we will add more pnls for theoretical DTE analysis\n",
    "ostrat.add_pnl(dte=14)\n",
    "ostrat.add_pnl(dte=3)\n",
    "ostrat.plot_strategy()\n",
    "print_stats(ostrat, legs=False, pnls=True)\n",
    "\n"
   ]
  },
  {
   "cell_type": "markdown",
   "metadata": {},
   "source": []
  },
  {
   "cell_type": "markdown",
   "metadata": {},
   "source": []
  }
 ],
 "metadata": {
  "kernelspec": {
   "display_name": "base",
   "language": "python",
   "name": "python3"
  },
  "language_info": {
   "codemirror_mode": {
    "name": "ipython",
    "version": 3
   },
   "file_extension": ".py",
   "mimetype": "text/x-python",
   "name": "python",
   "nbconvert_exporter": "python",
   "pygments_lexer": "ipython3",
   "version": "3.12.7"
  }
 },
 "nbformat": 4,
 "nbformat_minor": 2
}
