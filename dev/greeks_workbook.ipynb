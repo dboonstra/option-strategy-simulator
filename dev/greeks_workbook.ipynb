{
 "cells": [
  {
   "cell_type": "markdown",
   "metadata": {},
   "source": [
    "# Direct access to BS Greek calculations "
   ]
  },
  {
   "cell_type": "code",
   "execution_count": 4,
   "metadata": {},
   "outputs": [],
   "source": [
    "import sys\n",
    "sys.path.insert(0,\"src\")\n",
    "sys.path.insert(0,\"../src\")\n",
    "\n",
    "from option_strategy_sim import (\n",
    "    calculate_price_probability,\n",
    "    black_scholes,\n",
    "    expected_move,\n",
    "    implied_volatility_newton_raphson,\n",
    "    )\n",
    "\n",
    "# SETUP\n",
    "symbol: str = \"XYZ\"\n",
    "underlying_price: float = 104.65\n",
    "dte: float = 42\n",
    "volatility: float = 0.22\n",
    "strike: float = 115.0\n"
   ]
  },
  {
   "cell_type": "markdown",
   "metadata": {},
   "source": [
    "# expected move\n",
    "uses volatility and days to expiration to derive standard deviation and underlying price expected move \n",
    "1 standard deviation\n"
   ]
  },
  {
   "cell_type": "code",
   "execution_count": null,
   "metadata": {},
   "outputs": [],
   "source": [
    "\n",
    "\n",
    "# Expected Move of underlying\n",
    "em = expected_move(underlying_price, volatility, dte)\n",
    "print(f\"Expected move from {underlying_price} in {dte} days:\\n\\t{em}\")\n",
    "print()\n",
    "\n"
   ]
  },
  {
   "cell_type": "markdown",
   "metadata": {},
   "source": [
    "# black scholes \n",
    "Given an underlying price, strike, days to expiration, and volatility.\n",
    "We can use BS to derive a fair price , delta, theta, vega, gamma "
   ]
  },
  {
   "cell_type": "code",
   "execution_count": null,
   "metadata": {},
   "outputs": [],
   "source": [
    "\n",
    "# blackscholes greeks of contract\n",
    "price, delta, theta, vega, gamma = black_scholes(\n",
    "    underlying_price=underlying_price,\n",
    "    strike_price=strike,\n",
    "    time_days = dte,\n",
    "    volatility=volatility,\n",
    "    option_type = 'C',   \n",
    ")\n",
    "\n",
    "print(f\"Black Scholes XYZ of Call @105 with iv({volatility}):\")\n",
    "print(f\"\\tprice({price}, delta({delta}), theta({theta}), vega({vega}), gamma({gamma})\")\n",
    "print()\n",
    "\n"
   ]
  },
  {
   "cell_type": "markdown",
   "metadata": {},
   "source": [
    "# black scholes / newton raphson\n",
    "Given current market price of a contract instead of volatility, we may use newton raphson search with black sholes to derive volatility, delta, theta, vega, gamma"
   ]
  },
  {
   "cell_type": "code",
   "execution_count": null,
   "metadata": {},
   "outputs": [],
   "source": [
    "\n",
    "\n",
    "iv_nr, delta_nr, theta_nr, vega_nr, gamma_nr = implied_volatility_newton_raphson(    \n",
    "    underlying_price=underlying_price,\n",
    "    strike_price=strike,\n",
    "    time_days = dte,\n",
    "    mark = 1.00,  # pricing contractt at one dollar\n",
    "    option_type = 'C'\n",
    ")\n",
    "print(f\"With XYZ Call @105 price of $1.00:\")\n",
    "print(f\"\\tvolatility({iv_nr}, delta({delta_nr}), theta({theta_nr}), vega({vega_nr}), gamma({gamma_nr})\")\n",
    "print()\n",
    "\n"
   ]
  },
  {
   "cell_type": "markdown",
   "metadata": {},
   "source": [
    "# probability of price action\n",
    "An expected move provides the range for a 1 standard deviation move.\n",
    "Given volatility and days to expiration, we can also use the distribution to determine the probability of an underlying breaching a price in the time frame."
   ]
  },
  {
   "cell_type": "code",
   "execution_count": null,
   "metadata": {},
   "outputs": [],
   "source": [
    "\n",
    "\n",
    "\n",
    "# underlying price breach probability, related to probability of profit \n",
    "probability = calculate_price_probability(\n",
    "    underlying_price=underlying_price,\n",
    "    strike_price=strike,\n",
    "    time_days = dte,\n",
    "    volatility=volatility,\n",
    ")\n",
    "print(f\"Probability of underlying moving from {underlying_price} to > {strike} in {dte} days:\\n\\t{probability}\")\n",
    "print()\n"
   ]
  },
  {
   "cell_type": "markdown",
   "metadata": {},
   "source": []
  }
 ],
 "metadata": {
  "kernelspec": {
   "display_name": "base",
   "language": "python",
   "name": "python3"
  },
  "language_info": {
   "codemirror_mode": {
    "name": "ipython",
    "version": 3
   },
   "file_extension": ".py",
   "mimetype": "text/x-python",
   "name": "python",
   "nbconvert_exporter": "python",
   "pygments_lexer": "ipython3",
   "version": "3.12.7"
  }
 },
 "nbformat": 4,
 "nbformat_minor": 2
}
